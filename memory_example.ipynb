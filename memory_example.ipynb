{
 "cells": [
  {
   "cell_type": "code",
   "execution_count": 1,
   "id": "78778352-fd3d-4528-b236-2abadaf2d005",
   "metadata": {},
   "outputs": [],
   "source": [
    "# Imports\n",
    "from IPython.display import display\n",
    "\n",
    "import numpy as np\n",
    "import matplotlib.pyplot as plt\n",
    "from scipy.optimize import curve_fit\n",
    "from scipy.special import factorial\n",
    "import json\n",
    "import uuid\n",
    "\n",
    "from qsi.coordinator import Coordinator\n",
    "from qsi.state import State, StateProp\n",
    "\n",
    "plt.style.use('paper.mplstyle')"
   ]
  },
  {
   "cell_type": "code",
   "execution_count": 2,
   "id": "f15d6452-a2de-41c0-8a1d-dca4f0a53c33",
   "metadata": {},
   "outputs": [],
   "source": [
    "def photon_number_projectors(dim_e,dim_l):\n",
    "    ''' Returns a photon number projector to be applied to the early and late states in the joint e x l space.\n",
    "    \n",
    "     Args:\n",
    "        dim_e (int): Dimension of the early state\n",
    "        dim_l (int): Dimension of the late state\n",
    "\n",
    "    Returns:\n",
    "        np.ndarray: The number operator on the early state\n",
    "        np.ndarray: The number operator on the late state\n",
    "\n",
    "    '''\n",
    "    a_e  = np.zeros((dim_e, dim_e))\n",
    "    for i in range(0,dim_e-1):\n",
    "        a_e[i,i+1] = np.sqrt(i+1)\n",
    "    a_dagger_e = a_e.conj().T\n",
    "    n_hat_e = a_dagger_e@a_e  \n",
    "    \n",
    "    a_l  = np.zeros((dim_l, dim_l))\n",
    "    for i in range(0,dim_l-1):\n",
    "        a_l[i,i+1] = np.sqrt(i+1)\n",
    "    a_dagger_l = a_l.conj().T\n",
    "    n_hat_l = a_dagger_l@a_l  \n",
    "\n",
    "    n_hat_e = np.kron(n_hat_e, np.eye(dim_l))\n",
    "    n_hat_l = np.kron(np.eye(dim_e), n_hat_l)\n",
    "\n",
    "    return n_hat_e, n_hat_l\n"
   ]
  },
  {
   "cell_type": "code",
   "execution_count": 3,
   "id": "7adc1faf-6a50-4ebb-91d3-69dad724fe9a",
   "metadata": {},
   "outputs": [
    {
     "name": "stdout",
     "output_type": "stream",
     "text": [
      "{'storage_time': {'value': None, 'type': 'number'}, 'memory_type': {'value': None, 'type': 'string'}, 'memory_truncation': {'value': None, 'type': 'number'}, 't_in': {'value': None, 'type': 'number'}, 't_out': {'value': None, 'type': 'number'}, 'k_e': {'value': None, 'type': 'number'}, 'k_l': {'value': None, 'type': 'number'}, 'nB_e': {'value': None, 'type': 'number'}, 'nB_l': {'value': None, 'type': 'number'}}\n",
      "{'alpha': {'value': None, 'type': 'complex'}}\n"
     ]
    }
   ],
   "source": [
    "#start the coordinator\n",
    "coordinator = Coordinator(port=20002)\n",
    "\n",
    "#Add the memory and the coherent source\n",
    "mem = coordinator.register_component(module=\"memory.py\", runtime=\"python\")\n",
    "cs = coordinator.register_component(module=\"coherent_source.py\", runtime = \"python\")\n",
    "\n",
    "# Run the coordinator process\n",
    "coordinator.run()"
   ]
  },
  {
   "cell_type": "code",
   "execution_count": 4,
   "id": "b7ddb43b-4157-4b14-bd77-efa2625b6e15",
   "metadata": {},
   "outputs": [],
   "source": [
    "#define the memory paramters\n",
    "storage_time = 0e-6            #s\n",
    "mem_type = 'Lambda895'         \n",
    "trunc = 5"
   ]
  },
  {
   "cell_type": "code",
   "execution_count": 6,
   "id": "5da7c598-8cd8-4dad-9cdd-f7096f5ecd52",
   "metadata": {},
   "outputs": [],
   "source": [
    "# Set the memory paramters.\n",
    "mem.set_param(\"storage_time\", storage_time)\n",
    "mem.set_param(\"memory_type\", mem_type)\n",
    "mem.set_param(\"memory_truncation\",int(trunc))\n",
    "mem.send_params()\n",
    "\n",
    "# Initialise the internal state of the memory\n",
    "mem_state_bs = mem.state_init()[0]\n",
    "\n",
    "# Set the coherent source paramters\n",
    "cs.set_param(\"alpha\", 1+0j)\n",
    "cs.send_params()\n",
    "\n",
    "\n",
    "# define properties of the input state (early state)\n",
    "state_early_prop = StateProp(\n",
    "    state_type=\"light\",\n",
    "    truncation=trunc,\n",
    "    wavelength=895,\n",
    "    polarization='H',\n",
    "    uuid=\"early\",\n",
    "    bandwidth =0.5e9 \n",
    "\n",
    ")\n",
    "# make the early state (vaccum state)\n",
    "state_early = State(state_early_prop)\n",
    "\n",
    "# Generate coherent source operators\n",
    "response, operators = cs.channel_query(\n",
    "state_early, {\"input\": state_early_prop.uuid}\n",
    ")\n",
    "\n",
    "# apply coherent source operators\n",
    "state_early.apply_kraus_operators(operators, [state_early_prop])\n",
    "\n",
    "# create a joint state, consisting of just the early state\n",
    "whole_state =  state_early\n",
    "\n",
    "# Add the internal state of the memory to make a joint state e x s\n",
    "whole_state.join(mem_state_bs)\n",
    "\n",
    "# Generate the memory storage operators. \n",
    "response, operators = mem.channel_query(\n",
    "    whole_state, {\"input\": state_early_prop.uuid, 'op_type': 'storage'}\n",
    ")\n",
    "\n",
    "# Apply memory storage operators.\n",
    "whole_state.apply_kraus_operators(operators, whole_state.get_all_props(response[\"kraus_state_indices\"]))\n",
    "\n",
    "\n",
    "# define the properties of the late state \n",
    "state_late_prop = StateProp(\n",
    "    state_type=\"light\",\n",
    "    truncation=trunc,\n",
    "    wavelength=895,\n",
    "    polarization='H',\n",
    "    uuid=\"late\",\n",
    "    bandwidth =0.5e9\n",
    "\n",
    ")\n",
    "# create the late state\n",
    "state_late = State(state_late_prop)\n",
    "\n",
    "# join the late state to the e x s state - e x s x l \n",
    "whole_state.join( state_late )\n",
    "\n",
    "# generate the retrieval operators \n",
    "response, operators = mem.channel_query(\n",
    "   whole_state, {\"input\": state_late_prop.uuid, 'op_type': 'retrieval'}\n",
    ")\n",
    "\n",
    "# apply the retrieval opertors \n",
    "whole_state.apply_kraus_operators(operators, whole_state.get_all_props(response[\"kraus_state_indices\"]))\n",
    "\n",
    "\n",
    "# create the \\hat{n} projectors working on the e x l space \n",
    "n_hat_e, n_hat_l = photon_number_projectors(state_early_prop.truncation,state_late_prop.truncation )\n",
    "\n",
    "# trace out the storage state leaving just e x l \n",
    "red = whole_state.get_reduced_state([state_early_prop,state_late_prop])\n",
    "\n",
    "# apply the number operators to early and late states. \n",
    "photon_num_e = np.trace(red @ n_hat_e)\n",
    "photon_num_l =  np.trace(red @ n_hat_l)"
   ]
  },
  {
   "cell_type": "code",
   "execution_count": 7,
   "id": "23be877b-3fe6-48d5-9c82-faad2376ca4a",
   "metadata": {},
   "outputs": [
    {
     "data": {
      "text/plain": [
       "(np.complex128(0.19021496549114697+0j), np.complex128(0.1527023299345292+0j))"
      ]
     },
     "execution_count": 7,
     "metadata": {},
     "output_type": "execute_result"
    }
   ],
   "source": [
    "photon_num_e, photon_num_l"
   ]
  },
  {
   "cell_type": "markdown",
   "id": "16562d77-9e1e-4756-aac4-73233160141b",
   "metadata": {},
   "source": [
    "# Using a test memory \n",
    "Below shows the initalisation of an example test memory, which we use to generate a truncation figure."
   ]
  },
  {
   "cell_type": "code",
   "execution_count": 18,
   "id": "e9a45870-fc78-4a14-9cec-b009dc4e33cf",
   "metadata": {},
   "outputs": [],
   "source": [
    "def truncation_scan(truncat, coherent_state = True ):\n",
    "    storage_time = 0e6\n",
    "\n",
    "    mem.set_param(\"storage_time\", storage_time)\n",
    "    mem.set_param(\"memory_type\", 'Test')\n",
    "    mem.set_param(\"memory_truncation\", int(truncat))\n",
    "\n",
    "    mem.set_param(\"t_in\", np.sqrt(0.5))             # \\eta_{read_in} = sqrt(0.5)\n",
    "    mem.set_param(\"t_out\", np.sqrt(0.5))            # \\eta_{read_out} = sqrt(0.5)\n",
    "    mem.set_param(\"k_e\", 0.5)              # \\kappa_e = 0.5\n",
    "    mem.set_param(\"k_l\", 0.5)              # \\kappa_l = 0.5\n",
    "    mem.set_param(\"nB_e\",  1)            # n_b_e = 0.5 \n",
    "    mem.set_param(\"nB_l\", 1)             # n_b_l = 0.5\n",
    "    mem.send_params()\n",
    "\n",
    "\n",
    "    cs.set_param(\"alpha\", 1+0j)\n",
    "    cs.send_params()\n",
    "    \n",
    "    mem_state_bs = mem.state_init()[0]\n",
    "\n",
    "    state_early_prop = StateProp(\n",
    "        state_type=\"light\",\n",
    "        truncation=truncat,\n",
    "        wavelength= 895,\n",
    "        polarization= 'H',\n",
    "        uuid=\"early\",\n",
    "        bandwidth = 0.5e9\n",
    "    \n",
    "    )\n",
    "    state_early = State(state_early_prop)\n",
    "\n",
    "    # switch between coherent_state and single photon input. \n",
    "    if coherent_state:\n",
    "        response, operators = cs.channel_query(\n",
    "        state_early, {\"input\": state_early_prop.uuid}\n",
    "        ) \n",
    "        state_early.apply_kraus_operators(operators, [state_early_prop])\n",
    "        \n",
    "    else:\n",
    "        state_early.state[0,0]  = 0 \n",
    "        state_early.state[1,1]  = 1    \n",
    "\n",
    "    whole_state =  state_early\n",
    "    whole_state.join(mem_state_bs)\n",
    "    \n",
    "    response, operators = mem.channel_query(\n",
    "        whole_state, {\"input\": state_early_prop.uuid, 'op_type': 'storage'}\n",
    "    )\n",
    "    whole_state.apply_kraus_operators(operators, whole_state.get_all_props(response[\"kraus_state_indices\"]))\n",
    "\n",
    "  \n",
    "    state_late_prop = StateProp(\n",
    "        state_type=\"light\",\n",
    "        truncation=truncat,\n",
    "        wavelength= 895,\n",
    "        polarization= 'H',\n",
    "        uuid=\"late\",\n",
    "        bandwidth = 0.5e9\n",
    "    \n",
    "    )\n",
    "    \n",
    "    state_late = State(state_late_prop)\n",
    "    whole_state.join( state_late )\n",
    "\n",
    "    \n",
    "    response, operators = mem.channel_query(\n",
    "       whole_state, {\"input\": state_late_prop.uuid, 'op_type': 'retrieval'}\n",
    "    )\n",
    "    whole_state.apply_kraus_operators(operators, whole_state.get_all_props(response[\"kraus_state_indices\"]))\n",
    "\n",
    "    \n",
    "    n_hat_e, n_hat_l = photon_number_projectors(state_early_prop.truncation,state_late_prop.truncation )\n",
    "    \n",
    "    red = whole_state.get_reduced_state([state_early_prop,state_late_prop])\n",
    "\n",
    "    photon_no_e = np.trace(red @ n_hat_e)\n",
    "    photon_no_l =  np.trace(red @ n_hat_l)\n",
    "    return photon_no_e, photon_no_l \n"
   ]
  },
  {
   "cell_type": "code",
   "execution_count": 19,
   "id": "007931dd-603d-401c-a23c-c4838b02a36b",
   "metadata": {},
   "outputs": [
    {
     "name": "stderr",
     "output_type": "stream",
     "text": [
      "C:\\Users\\robe_el\\AppData\\Local\\Temp\\ipykernel_20296\\609124900.py:6: ComplexWarning: Casting complex values to real discards the imaginary part\n",
      "  single[i] = truncation_scan(truncation[i], coherent_state = False)\n",
      "C:\\Users\\robe_el\\AppData\\Local\\Temp\\ipykernel_20296\\609124900.py:7: ComplexWarning: Casting complex values to real discards the imaginary part\n",
      "  coherent[i] = truncation_scan(truncation[i], coherent_state = True)\n"
     ]
    }
   ],
   "source": [
    "truncation = np.arange(2,9)\n",
    "coherent = np.zeros((truncation.shape[0],2))\n",
    "single =  np.zeros((truncation.shape[0],2))\n",
    "\n",
    "for i in range(truncation.shape[0]):\n",
    "    single[i] = truncation_scan(truncation[i], coherent_state = False)\n",
    "    coherent[i] = truncation_scan(truncation[i], coherent_state = True)"
   ]
  },
  {
   "cell_type": "code",
   "execution_count": 17,
   "id": "1298d58c-37e4-4c7b-ae4f-6b322326228c",
   "metadata": {},
   "outputs": [
    {
     "data": {
      "text/plain": [
       "(0.0, 1.0)"
      ]
     },
     "execution_count": 17,
     "metadata": {},
     "output_type": "execute_result"
    },
    {
     "data": {
      "image/png": "[encoded data removed]",
      "text/plain": [
       "<Figure size 640x480 with 1 Axes>"
      ]
     },
     "metadata": {},
     "output_type": "display_data"
    }
   ],
   "source": [
    "plt.plot(truncation, single[:,1], label = 'Single photon')\n",
    "plt.plot(truncation, coherent[:,1], label = 'Coherent state')\n",
    "plt.legend()\n",
    "plt.ylabel(r\"$\\langle \\hat{n} \\rangle_l$\")\n",
    "plt.xlabel(\"Truncation\")\n",
    "plt.ylim(0,1)\n"
   ]
  },
  {
   "cell_type": "code",
   "execution_count": null,
   "id": "18ae21b0-c5fc-44cd-b2a1-c5d97f7492cf",
   "metadata": {},
   "outputs": [],
   "source": []
  }
 ],
 "metadata": {
  "kernelspec": {
   "display_name": "venv",
   "language": "python",
   "name": "venv"
  },
  "language_info": {
   "codemirror_mode": {
    "name": "ipython",
    "version": 3
   },
   "file_extension": ".py",
   "mimetype": "text/x-python",
   "name": "python",
   "nbconvert_exporter": "python",
   "pygments_lexer": "ipython3",
   "version": "3.12.7"
  }
 },
 "nbformat": 4,
 "nbformat_minor": 5
}
