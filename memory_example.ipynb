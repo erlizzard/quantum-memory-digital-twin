{
  "cells": [
    {
      "cell_type": "code",
      "source": [
        "pip install git+https://github.com/tqsd/special_issue_quantum.git@master"
      ],
      "metadata": {
        "id": "t3h5zDs_C3uP",
        "outputId": "1c4720f6-6d64-4f65-bf50-86ed28bba193",
        "colab": {
          "base_uri": "https://localhost:8080/"
        }
      },
      "id": "t3h5zDs_C3uP",
      "execution_count": 7,
      "outputs": [
        {
          "output_type": "stream",
          "name": "stdout",
          "text": [
            "Collecting git+https://github.com/tqsd/special_issue_quantum.git@master\n",
            "  Cloning https://github.com/tqsd/special_issue_quantum.git (to revision master) to /tmp/pip-req-build-6exoh2fw\n",
            "  Running command git clone --filter=blob:none --quiet https://github.com/tqsd/special_issue_quantum.git /tmp/pip-req-build-6exoh2fw\n",
            "  Resolved https://github.com/tqsd/special_issue_quantum.git to commit 5931b967e2fa4dbc28201c9480c02554e4a9f81b\n",
            "  Preparing metadata (setup.py) ... \u001b[?25l\u001b[?25hdone\n",
            "Requirement already satisfied: numpy in /usr/local/lib/python3.11/dist-packages (from qsi==0.0.2) (2.0.2)\n",
            "Requirement already satisfied: type_enforced in /usr/local/lib/python3.11/dist-packages (from qsi==0.0.2) (1.10.2)\n",
            "Requirement already satisfied: scipy in /usr/local/lib/python3.11/dist-packages (from qsi==0.0.2) (1.15.3)\n"
          ]
        }
      ]
    },
    {
      "cell_type": "code",
      "execution_count": 8,
      "id": "78778352-fd3d-4528-b236-2abadaf2d005",
      "metadata": {
        "id": "78778352-fd3d-4528-b236-2abadaf2d005",
        "outputId": "c4237d05-fdcd-47d2-cf16-9b4e3db6eb96",
        "colab": {
          "base_uri": "https://localhost:8080/",
          "height": 421
        }
      },
      "outputs": [
        {
          "output_type": "error",
          "ename": "OSError",
          "evalue": "'paper.mplstyle' is not a valid package style, path of style file, URL of style file, or library style name (library styles are listed in `style.available`)",
          "traceback": [
            "\u001b[0;31m---------------------------------------------------------------------------\u001b[0m",
            "\u001b[0;31mFileNotFoundError\u001b[0m                         Traceback (most recent call last)",
            "\u001b[0;32m/usr/local/lib/python3.11/dist-packages/matplotlib/style/core.py\u001b[0m in \u001b[0;36muse\u001b[0;34m(style)\u001b[0m\n\u001b[1;32m    128\u001b[0m             \u001b[0;32mtry\u001b[0m\u001b[0;34m:\u001b[0m\u001b[0;34m\u001b[0m\u001b[0;34m\u001b[0m\u001b[0m\n\u001b[0;32m--> 129\u001b[0;31m                 \u001b[0mstyle\u001b[0m \u001b[0;34m=\u001b[0m \u001b[0m_rc_params_in_file\u001b[0m\u001b[0;34m(\u001b[0m\u001b[0mstyle\u001b[0m\u001b[0;34m)\u001b[0m\u001b[0;34m\u001b[0m\u001b[0;34m\u001b[0m\u001b[0m\n\u001b[0m\u001b[1;32m    130\u001b[0m             \u001b[0;32mexcept\u001b[0m \u001b[0mOSError\u001b[0m \u001b[0;32mas\u001b[0m \u001b[0merr\u001b[0m\u001b[0;34m:\u001b[0m\u001b[0;34m\u001b[0m\u001b[0;34m\u001b[0m\u001b[0m\n",
            "\u001b[0;32m/usr/local/lib/python3.11/dist-packages/matplotlib/__init__.py\u001b[0m in \u001b[0;36m_rc_params_in_file\u001b[0;34m(fname, transform, fail_on_error)\u001b[0m\n\u001b[1;32m    902\u001b[0m     \u001b[0mrc_temp\u001b[0m \u001b[0;34m=\u001b[0m \u001b[0;34m{\u001b[0m\u001b[0;34m}\u001b[0m\u001b[0;34m\u001b[0m\u001b[0;34m\u001b[0m\u001b[0m\n\u001b[0;32m--> 903\u001b[0;31m     \u001b[0;32mwith\u001b[0m \u001b[0m_open_file_or_url\u001b[0m\u001b[0;34m(\u001b[0m\u001b[0mfname\u001b[0m\u001b[0;34m)\u001b[0m \u001b[0;32mas\u001b[0m \u001b[0mfd\u001b[0m\u001b[0;34m:\u001b[0m\u001b[0;34m\u001b[0m\u001b[0;34m\u001b[0m\u001b[0m\n\u001b[0m\u001b[1;32m    904\u001b[0m         \u001b[0;32mtry\u001b[0m\u001b[0;34m:\u001b[0m\u001b[0;34m\u001b[0m\u001b[0;34m\u001b[0m\u001b[0m\n",
            "\u001b[0;32m/usr/lib/python3.11/contextlib.py\u001b[0m in \u001b[0;36m__enter__\u001b[0;34m(self)\u001b[0m\n\u001b[1;32m    136\u001b[0m         \u001b[0;32mtry\u001b[0m\u001b[0;34m:\u001b[0m\u001b[0;34m\u001b[0m\u001b[0;34m\u001b[0m\u001b[0m\n\u001b[0;32m--> 137\u001b[0;31m             \u001b[0;32mreturn\u001b[0m \u001b[0mnext\u001b[0m\u001b[0;34m(\u001b[0m\u001b[0mself\u001b[0m\u001b[0;34m.\u001b[0m\u001b[0mgen\u001b[0m\u001b[0;34m)\u001b[0m\u001b[0;34m\u001b[0m\u001b[0;34m\u001b[0m\u001b[0m\n\u001b[0m\u001b[1;32m    138\u001b[0m         \u001b[0;32mexcept\u001b[0m \u001b[0mStopIteration\u001b[0m\u001b[0;34m:\u001b[0m\u001b[0;34m\u001b[0m\u001b[0;34m\u001b[0m\u001b[0m\n",
            "\u001b[0;32m/usr/local/lib/python3.11/dist-packages/matplotlib/__init__.py\u001b[0m in \u001b[0;36m_open_file_or_url\u001b[0;34m(fname)\u001b[0m\n\u001b[1;32m    879\u001b[0m         \u001b[0mfname\u001b[0m \u001b[0;34m=\u001b[0m \u001b[0mos\u001b[0m\u001b[0;34m.\u001b[0m\u001b[0mpath\u001b[0m\u001b[0;34m.\u001b[0m\u001b[0mexpanduser\u001b[0m\u001b[0;34m(\u001b[0m\u001b[0mfname\u001b[0m\u001b[0;34m)\u001b[0m\u001b[0;34m\u001b[0m\u001b[0;34m\u001b[0m\u001b[0m\n\u001b[0;32m--> 880\u001b[0;31m         \u001b[0;32mwith\u001b[0m \u001b[0mopen\u001b[0m\u001b[0;34m(\u001b[0m\u001b[0mfname\u001b[0m\u001b[0;34m,\u001b[0m \u001b[0mencoding\u001b[0m\u001b[0;34m=\u001b[0m\u001b[0;34m'utf-8'\u001b[0m\u001b[0;34m)\u001b[0m \u001b[0;32mas\u001b[0m \u001b[0mf\u001b[0m\u001b[0;34m:\u001b[0m\u001b[0;34m\u001b[0m\u001b[0;34m\u001b[0m\u001b[0m\n\u001b[0m\u001b[1;32m    881\u001b[0m             \u001b[0;32myield\u001b[0m \u001b[0mf\u001b[0m\u001b[0;34m\u001b[0m\u001b[0;34m\u001b[0m\u001b[0m\n",
            "\u001b[0;31mFileNotFoundError\u001b[0m: [Errno 2] No such file or directory: 'paper.mplstyle'",
            "\nThe above exception was the direct cause of the following exception:\n",
            "\u001b[0;31mOSError\u001b[0m                                   Traceback (most recent call last)",
            "\u001b[0;32m<ipython-input-8-3018c1a9ff5e>\u001b[0m in \u001b[0;36m<cell line: 0>\u001b[0;34m()\u001b[0m\n\u001b[1;32m     12\u001b[0m \u001b[0;32mfrom\u001b[0m \u001b[0mqsi\u001b[0m\u001b[0;34m.\u001b[0m\u001b[0mstate\u001b[0m \u001b[0;32mimport\u001b[0m \u001b[0mState\u001b[0m\u001b[0;34m,\u001b[0m \u001b[0mStateProp\u001b[0m\u001b[0;34m\u001b[0m\u001b[0;34m\u001b[0m\u001b[0m\n\u001b[1;32m     13\u001b[0m \u001b[0;34m\u001b[0m\u001b[0m\n\u001b[0;32m---> 14\u001b[0;31m \u001b[0mplt\u001b[0m\u001b[0;34m.\u001b[0m\u001b[0mstyle\u001b[0m\u001b[0;34m.\u001b[0m\u001b[0muse\u001b[0m\u001b[0;34m(\u001b[0m\u001b[0;34m'paper.mplstyle'\u001b[0m\u001b[0;34m)\u001b[0m\u001b[0;34m\u001b[0m\u001b[0;34m\u001b[0m\u001b[0m\n\u001b[0m",
            "\u001b[0;32m/usr/local/lib/python3.11/dist-packages/matplotlib/style/core.py\u001b[0m in \u001b[0;36muse\u001b[0;34m(style)\u001b[0m\n\u001b[1;32m    129\u001b[0m                 \u001b[0mstyle\u001b[0m \u001b[0;34m=\u001b[0m \u001b[0m_rc_params_in_file\u001b[0m\u001b[0;34m(\u001b[0m\u001b[0mstyle\u001b[0m\u001b[0;34m)\u001b[0m\u001b[0;34m\u001b[0m\u001b[0;34m\u001b[0m\u001b[0m\n\u001b[1;32m    130\u001b[0m             \u001b[0;32mexcept\u001b[0m \u001b[0mOSError\u001b[0m \u001b[0;32mas\u001b[0m \u001b[0merr\u001b[0m\u001b[0;34m:\u001b[0m\u001b[0;34m\u001b[0m\u001b[0;34m\u001b[0m\u001b[0m\n\u001b[0;32m--> 131\u001b[0;31m                 raise OSError(\n\u001b[0m\u001b[1;32m    132\u001b[0m                     \u001b[0;34mf\"{style!r} is not a valid package style, path of style \"\u001b[0m\u001b[0;34m\u001b[0m\u001b[0;34m\u001b[0m\u001b[0m\n\u001b[1;32m    133\u001b[0m                     \u001b[0;34mf\"file, URL of style file, or library style name (library \"\u001b[0m\u001b[0;34m\u001b[0m\u001b[0;34m\u001b[0m\u001b[0m\n",
            "\u001b[0;31mOSError\u001b[0m: 'paper.mplstyle' is not a valid package style, path of style file, URL of style file, or library style name (library styles are listed in `style.available`)"
          ]
        }
      ],
      "source": [
        "# Imports\n",
        "from IPython.display import display\n",
        "\n",
        "import numpy as np\n",
        "import matplotlib.pyplot as plt\n",
        "from scipy.optimize import curve_fit\n",
        "from scipy.special import factorial\n",
        "import json\n",
        "import uuid\n",
        "\n",
        "from qsi.coordinator import Coordinator\n",
        "from qsi.state import State, StateProp\n",
        "\n",
        "plt.style.use('paper.mplstyle')"
      ]
    },
    {
      "cell_type": "code",
      "execution_count": 11,
      "id": "f15d6452-a2de-41c0-8a1d-dca4f0a53c33",
      "metadata": {
        "id": "f15d6452-a2de-41c0-8a1d-dca4f0a53c33"
      },
      "outputs": [],
      "source": [
        "def photon_number_projectors(dim_e,dim_l):\n",
        "    ''' Returns a photon number projector to be applied to the early and late states in the joint e x l space.\n",
        "\n",
        "     Args:\n",
        "        dim_e (int): Dimension of the early state\n",
        "        dim_l (int): Dimension of the late state\n",
        "\n",
        "    Returns:\n",
        "        np.ndarray: The number operator on the early state\n",
        "        np.ndarray: The number operator on the late state\n",
        "\n",
        "    '''\n",
        "    a_e  = np.zeros((dim_e, dim_e))\n",
        "    for i in range(0,dim_e-1):\n",
        "        a_e[i,i+1] = np.sqrt(i+1)\n",
        "    a_dagger_e = a_e.conj().T\n",
        "    n_hat_e = a_dagger_e@a_e\n",
        "\n",
        "    a_l  = np.zeros((dim_l, dim_l))\n",
        "    for i in range(0,dim_l-1):\n",
        "        a_l[i,i+1] = np.sqrt(i+1)\n",
        "    a_dagger_l = a_l.conj().T\n",
        "    n_hat_l = a_dagger_l@a_l\n",
        "\n",
        "    n_hat_e = np.kron(n_hat_e, np.eye(dim_l))\n",
        "    n_hat_l = np.kron(np.eye(dim_e), n_hat_l)\n",
        "\n",
        "    return n_hat_e, n_hat_l\n"
      ]
    },
    {
      "cell_type": "code",
      "execution_count": 12,
      "id": "7adc1faf-6a50-4ebb-91d3-69dad724fe9a",
      "metadata": {
        "id": "7adc1faf-6a50-4ebb-91d3-69dad724fe9a",
        "outputId": "b2c1bd63-6d8b-4600-9c29-685ea1ad0721",
        "colab": {
          "base_uri": "https://localhost:8080/",
          "height": 619
        }
      },
      "outputs": [
        {
          "output_type": "stream",
          "name": "stderr",
          "text": [
            "Exception in thread Thread-22 (handle_connections):\n",
            "Traceback (most recent call last):\n",
            "  File \"/usr/lib/python3.11/threading.py\", line 1045, in _bootstrap_inner\n",
            "    self.run()\n",
            "  File \"/usr/lib/python3.11/threading.py\", line 982, in run\n",
            "    self._target(*self._args, **self._kwargs)\n",
            "  File \"/usr/local/lib/python3.11/dist-packages/qsi/socket_handler.py\", line 36, in handle_connections\n",
            "    s.bind(('localhost', port))\n",
            "OSError: [Errno 98] Address already in use\n"
          ]
        },
        {
          "output_type": "stream",
          "name": "stdout",
          "text": [
            "[stderr] /usr/bin/python3: can't open file '/content/memory.py': [Errno 2] No such file or directory\n",
            "[stderr] /usr/bin/python3: can't open file '/content/coherent_source.py': [Errno 2] No such file or directory\n"
          ]
        },
        {
          "output_type": "error",
          "ename": "KeyboardInterrupt",
          "evalue": "",
          "traceback": [
            "\u001b[0;31m---------------------------------------------------------------------------\u001b[0m",
            "\u001b[0;31mConnectionRefusedError\u001b[0m                    Traceback (most recent call last)",
            "\u001b[0;32m/usr/local/lib/python3.11/dist-packages/qsi/coordinator.py\u001b[0m in \u001b[0;36mretry_connection\u001b[0;34m(self, port, json_data, retries, delay)\u001b[0m\n\u001b[1;32m     76\u001b[0m             \u001b[0;32mtry\u001b[0m\u001b[0;34m:\u001b[0m\u001b[0;34m\u001b[0m\u001b[0;34m\u001b[0m\u001b[0m\n\u001b[0;32m---> 77\u001b[0;31m                 \u001b[0mself\u001b[0m\u001b[0;34m.\u001b[0m\u001b[0msend_to\u001b[0m\u001b[0;34m(\u001b[0m\u001b[0mport\u001b[0m\u001b[0;34m,\u001b[0m \u001b[0mjson_data\u001b[0m\u001b[0;34m)\u001b[0m\u001b[0;34m\u001b[0m\u001b[0;34m\u001b[0m\u001b[0m\n\u001b[0m\u001b[1;32m     78\u001b[0m                 \u001b[0;32mreturn\u001b[0m\u001b[0;34m\u001b[0m\u001b[0;34m\u001b[0m\u001b[0m\n",
            "\u001b[0;32m/usr/local/lib/python3.11/dist-packages/qsi/coordinator.py\u001b[0m in \u001b[0;36msend_to\u001b[0;34m(self, port, message)\u001b[0m\n\u001b[1;32m     71\u001b[0m             \u001b[0mself\u001b[0m\u001b[0;34m.\u001b[0m\u001b[0mresponse_received\u001b[0m \u001b[0;34m=\u001b[0m \u001b[0;32mFalse\u001b[0m\u001b[0;34m\u001b[0m\u001b[0;34m\u001b[0m\u001b[0m\n\u001b[0;32m---> 72\u001b[0;31m             \u001b[0msuper\u001b[0m\u001b[0;34m(\u001b[0m\u001b[0;34m)\u001b[0m\u001b[0;34m.\u001b[0m\u001b[0msend_to\u001b[0m\u001b[0;34m(\u001b[0m\u001b[0mport\u001b[0m\u001b[0;34m,\u001b[0m \u001b[0mmessage\u001b[0m\u001b[0;34m)\u001b[0m\u001b[0;34m\u001b[0m\u001b[0;34m\u001b[0m\u001b[0m\n\u001b[0m\u001b[1;32m     73\u001b[0m \u001b[0;34m\u001b[0m\u001b[0m\n",
            "\u001b[0;32m/usr/local/lib/python3.11/dist-packages/qsi/socket_handler.py\u001b[0m in \u001b[0;36msend_to\u001b[0;34m(self, port, message)\u001b[0m\n\u001b[1;32m     91\u001b[0m         \u001b[0;32mwith\u001b[0m \u001b[0msocket\u001b[0m\u001b[0;34m.\u001b[0m\u001b[0msocket\u001b[0m\u001b[0;34m(\u001b[0m\u001b[0msocket\u001b[0m\u001b[0;34m.\u001b[0m\u001b[0mAF_INET\u001b[0m\u001b[0;34m,\u001b[0m \u001b[0msocket\u001b[0m\u001b[0;34m.\u001b[0m\u001b[0mSOCK_STREAM\u001b[0m\u001b[0;34m)\u001b[0m \u001b[0;32mas\u001b[0m \u001b[0ms\u001b[0m\u001b[0;34m:\u001b[0m\u001b[0;34m\u001b[0m\u001b[0;34m\u001b[0m\u001b[0m\n\u001b[0;32m---> 92\u001b[0;31m             \u001b[0ms\u001b[0m\u001b[0;34m.\u001b[0m\u001b[0mconnect\u001b[0m\u001b[0;34m(\u001b[0m\u001b[0;34m(\u001b[0m\u001b[0;34m'localhost'\u001b[0m\u001b[0;34m,\u001b[0m \u001b[0mport\u001b[0m\u001b[0;34m)\u001b[0m\u001b[0;34m)\u001b[0m\u001b[0;34m\u001b[0m\u001b[0;34m\u001b[0m\u001b[0m\n\u001b[0m\u001b[1;32m     93\u001b[0m             \u001b[0mmessage\u001b[0m\u001b[0;34m[\u001b[0m\u001b[0;34m\"sent_from\"\u001b[0m\u001b[0;34m]\u001b[0m \u001b[0;34m=\u001b[0m \u001b[0mint\u001b[0m\u001b[0;34m(\u001b[0m\u001b[0mself\u001b[0m\u001b[0;34m.\u001b[0m\u001b[0mlistening_port\u001b[0m\u001b[0;34m)\u001b[0m\u001b[0;34m\u001b[0m\u001b[0;34m\u001b[0m\u001b[0m\n",
            "\u001b[0;31mConnectionRefusedError\u001b[0m: [Errno 111] Connection refused",
            "\nDuring handling of the above exception, another exception occurred:\n",
            "\u001b[0;31mKeyboardInterrupt\u001b[0m                         Traceback (most recent call last)",
            "\u001b[0;32m<ipython-input-12-6062f801fa29>\u001b[0m in \u001b[0;36m<cell line: 0>\u001b[0;34m()\u001b[0m\n\u001b[1;32m      7\u001b[0m \u001b[0;34m\u001b[0m\u001b[0m\n\u001b[1;32m      8\u001b[0m \u001b[0;31m# Run the coordinator process\u001b[0m\u001b[0;34m\u001b[0m\u001b[0;34m\u001b[0m\u001b[0m\n\u001b[0;32m----> 9\u001b[0;31m \u001b[0mcoordinator\u001b[0m\u001b[0;34m.\u001b[0m\u001b[0mrun\u001b[0m\u001b[0;34m(\u001b[0m\u001b[0;34m)\u001b[0m\u001b[0;34m\u001b[0m\u001b[0;34m\u001b[0m\u001b[0m\n\u001b[0m",
            "\u001b[0;32m/usr/local/lib/python3.11/dist-packages/qsi/coordinator.py\u001b[0m in \u001b[0;36mrun\u001b[0;34m(self)\u001b[0m\n\u001b[1;32m     45\u001b[0m         \u001b[0;32mfor\u001b[0m \u001b[0;34m(\u001b[0m\u001b[0mmodule\u001b[0m\u001b[0;34m,\u001b[0m \u001b[0mport\u001b[0m\u001b[0;34m,\u001b[0m \u001b[0mmr\u001b[0m\u001b[0;34m)\u001b[0m \u001b[0;32min\u001b[0m \u001b[0mself\u001b[0m\u001b[0;34m.\u001b[0m\u001b[0mmodules\u001b[0m\u001b[0;34m:\u001b[0m\u001b[0;34m\u001b[0m\u001b[0;34m\u001b[0m\u001b[0m\n\u001b[1;32m     46\u001b[0m             \u001b[0mmsg\u001b[0m \u001b[0;34m=\u001b[0m \u001b[0;34m{\u001b[0m\u001b[0;34m\"msg_type\"\u001b[0m\u001b[0;34m:\u001b[0m \u001b[0;34m\"param_query\"\u001b[0m\u001b[0;34m}\u001b[0m\u001b[0;34m\u001b[0m\u001b[0;34m\u001b[0m\u001b[0m\n\u001b[0;32m---> 47\u001b[0;31m             \u001b[0mself\u001b[0m\u001b[0;34m.\u001b[0m\u001b[0mretry_connection\u001b[0m\u001b[0;34m(\u001b[0m\u001b[0mport\u001b[0m\u001b[0;34m,\u001b[0m \u001b[0mmsg\u001b[0m\u001b[0;34m)\u001b[0m\u001b[0;34m\u001b[0m\u001b[0;34m\u001b[0m\u001b[0m\n\u001b[0m\u001b[1;32m     48\u001b[0m \u001b[0;34m\u001b[0m\u001b[0m\n\u001b[1;32m     49\u001b[0m     \u001b[0;32mdef\u001b[0m \u001b[0mregister_component\u001b[0m\u001b[0;34m(\u001b[0m\u001b[0mself\u001b[0m\u001b[0;34m,\u001b[0m \u001b[0mmodule\u001b[0m\u001b[0;34m,\u001b[0m \u001b[0mport\u001b[0m\u001b[0;34m=\u001b[0m\u001b[0;32mNone\u001b[0m\u001b[0;34m,\u001b[0m \u001b[0mruntime\u001b[0m\u001b[0;34m=\u001b[0m\u001b[0;34m\"python\"\u001b[0m\u001b[0;34m)\u001b[0m\u001b[0;34m:\u001b[0m\u001b[0;34m\u001b[0m\u001b[0;34m\u001b[0m\u001b[0m\n",
            "\u001b[0;32m/usr/local/lib/python3.11/dist-packages/qsi/coordinator.py\u001b[0m in \u001b[0;36mretry_connection\u001b[0;34m(self, port, json_data, retries, delay)\u001b[0m\n\u001b[1;32m     78\u001b[0m                 \u001b[0;32mreturn\u001b[0m\u001b[0;34m\u001b[0m\u001b[0;34m\u001b[0m\u001b[0m\n\u001b[1;32m     79\u001b[0m             \u001b[0;32mexcept\u001b[0m \u001b[0mConnectionRefusedError\u001b[0m\u001b[0;34m:\u001b[0m\u001b[0;34m\u001b[0m\u001b[0;34m\u001b[0m\u001b[0m\n\u001b[0;32m---> 80\u001b[0;31m                 \u001b[0mtime\u001b[0m\u001b[0;34m.\u001b[0m\u001b[0msleep\u001b[0m\u001b[0;34m(\u001b[0m\u001b[0mdelay\u001b[0m\u001b[0;34m)\u001b[0m\u001b[0;34m\u001b[0m\u001b[0;34m\u001b[0m\u001b[0m\n\u001b[0m\u001b[1;32m     81\u001b[0m                 \u001b[0mself\u001b[0m\u001b[0;34m.\u001b[0m\u001b[0mresponse_received\u001b[0m \u001b[0;34m=\u001b[0m \u001b[0;32mTrue\u001b[0m\u001b[0;34m\u001b[0m\u001b[0;34m\u001b[0m\u001b[0m\n\u001b[1;32m     82\u001b[0m \u001b[0;34m\u001b[0m\u001b[0m\n",
            "\u001b[0;31mKeyboardInterrupt\u001b[0m: "
          ]
        }
      ],
      "source": [
        "#start the coordinator\n",
        "coordinator = Coordinator(port=20002)\n",
        "\n",
        "#Add the memory and the coherent source\n",
        "mem = coordinator.register_component(module=\"memory.py\", runtime=\"python\")\n",
        "cs = coordinator.register_component(module=\"coherent_source.py\", runtime = \"python\")\n",
        "\n",
        "# Run the coordinator process\n",
        "coordinator.run()"
      ]
    },
    {
      "cell_type": "code",
      "execution_count": 13,
      "id": "b7ddb43b-4157-4b14-bd77-efa2625b6e15",
      "metadata": {
        "id": "b7ddb43b-4157-4b14-bd77-efa2625b6e15"
      },
      "outputs": [],
      "source": [
        "#define the memory paramters\n",
        "storage_time = 0e-6            #s\n",
        "mem_type = 'Lambda895'\n",
        "trunc = 5"
      ]
    },
    {
      "cell_type": "code",
      "execution_count": 14,
      "id": "5da7c598-8cd8-4dad-9cdd-f7096f5ecd52",
      "metadata": {
        "id": "5da7c598-8cd8-4dad-9cdd-f7096f5ecd52",
        "outputId": "3147122b-5aa3-4b6f-c3ea-553857ebba34",
        "colab": {
          "base_uri": "https://localhost:8080/",
          "height": 367
        }
      },
      "outputs": [
        {
          "output_type": "error",
          "ename": "KeyboardInterrupt",
          "evalue": "",
          "traceback": [
            "\u001b[0;31m---------------------------------------------------------------------------\u001b[0m",
            "\u001b[0;31mKeyboardInterrupt\u001b[0m                         Traceback (most recent call last)",
            "\u001b[0;32m<ipython-input-14-a539a9a315c5>\u001b[0m in \u001b[0;36m<cell line: 0>\u001b[0;34m()\u001b[0m\n\u001b[1;32m      1\u001b[0m \u001b[0;31m# Set the memory paramters.\u001b[0m\u001b[0;34m\u001b[0m\u001b[0;34m\u001b[0m\u001b[0m\n\u001b[0;32m----> 2\u001b[0;31m \u001b[0mmem\u001b[0m\u001b[0;34m.\u001b[0m\u001b[0mset_param\u001b[0m\u001b[0;34m(\u001b[0m\u001b[0;34m\"storage_time\"\u001b[0m\u001b[0;34m,\u001b[0m \u001b[0mstorage_time\u001b[0m\u001b[0;34m)\u001b[0m\u001b[0;34m\u001b[0m\u001b[0;34m\u001b[0m\u001b[0m\n\u001b[0m\u001b[1;32m      3\u001b[0m \u001b[0mmem\u001b[0m\u001b[0;34m.\u001b[0m\u001b[0mset_param\u001b[0m\u001b[0;34m(\u001b[0m\u001b[0;34m\"memory_type\"\u001b[0m\u001b[0;34m,\u001b[0m \u001b[0mmem_type\u001b[0m\u001b[0;34m)\u001b[0m\u001b[0;34m\u001b[0m\u001b[0;34m\u001b[0m\u001b[0m\n\u001b[1;32m      4\u001b[0m \u001b[0mmem\u001b[0m\u001b[0;34m.\u001b[0m\u001b[0mset_param\u001b[0m\u001b[0;34m(\u001b[0m\u001b[0;34m\"memory_truncation\"\u001b[0m\u001b[0;34m,\u001b[0m\u001b[0mint\u001b[0m\u001b[0;34m(\u001b[0m\u001b[0mtrunc\u001b[0m\u001b[0;34m)\u001b[0m\u001b[0;34m)\u001b[0m\u001b[0;34m\u001b[0m\u001b[0;34m\u001b[0m\u001b[0m\n\u001b[1;32m      5\u001b[0m \u001b[0mmem\u001b[0m\u001b[0;34m.\u001b[0m\u001b[0msend_params\u001b[0m\u001b[0;34m(\u001b[0m\u001b[0;34m)\u001b[0m\u001b[0;34m\u001b[0m\u001b[0;34m\u001b[0m\u001b[0m\n",
            "\u001b[0;32m/usr/local/lib/python3.11/dist-packages/qsi/module_reference.py\u001b[0m in \u001b[0;36mset_param\u001b[0;34m(self, param, value)\u001b[0m\n\u001b[1;32m     37\u001b[0m \u001b[0;34m\u001b[0m\u001b[0m\n\u001b[1;32m     38\u001b[0m     \u001b[0;32mdef\u001b[0m \u001b[0mset_param\u001b[0m\u001b[0;34m(\u001b[0m\u001b[0mself\u001b[0m\u001b[0;34m,\u001b[0m \u001b[0mparam\u001b[0m\u001b[0;34m,\u001b[0m \u001b[0mvalue\u001b[0m\u001b[0;34m)\u001b[0m\u001b[0;34m:\u001b[0m\u001b[0;34m\u001b[0m\u001b[0;34m\u001b[0m\u001b[0m\n\u001b[0;32m---> 39\u001b[0;31m         \u001b[0mself\u001b[0m\u001b[0;34m.\u001b[0m\u001b[0mevents\u001b[0m\u001b[0;34m[\u001b[0m\u001b[0;34m\"params_known\"\u001b[0m\u001b[0;34m]\u001b[0m\u001b[0;34m.\u001b[0m\u001b[0mwait\u001b[0m\u001b[0;34m(\u001b[0m\u001b[0;34m)\u001b[0m\u001b[0;34m\u001b[0m\u001b[0;34m\u001b[0m\u001b[0m\n\u001b[0m\u001b[1;32m     40\u001b[0m         \u001b[0;32mif\u001b[0m \u001b[0mself\u001b[0m\u001b[0;34m.\u001b[0m\u001b[0mparams\u001b[0m\u001b[0;34m[\u001b[0m\u001b[0mparam\u001b[0m\u001b[0;34m]\u001b[0m\u001b[0;34m[\u001b[0m\u001b[0;34m\"type\"\u001b[0m\u001b[0;34m]\u001b[0m\u001b[0;34m==\u001b[0m\u001b[0;34m\"complex\"\u001b[0m\u001b[0;34m:\u001b[0m\u001b[0;34m\u001b[0m\u001b[0;34m\u001b[0m\u001b[0m\n\u001b[1;32m     41\u001b[0m             \u001b[0mnum\u001b[0m \u001b[0;34m=\u001b[0m \u001b[0mcomplex\u001b[0m\u001b[0;34m(\u001b[0m\u001b[0mvalue\u001b[0m\u001b[0;34m)\u001b[0m\u001b[0;34m\u001b[0m\u001b[0;34m\u001b[0m\u001b[0m\n",
            "\u001b[0;32m/usr/lib/python3.11/threading.py\u001b[0m in \u001b[0;36mwait\u001b[0;34m(self, timeout)\u001b[0m\n\u001b[1;32m    627\u001b[0m             \u001b[0msignaled\u001b[0m \u001b[0;34m=\u001b[0m \u001b[0mself\u001b[0m\u001b[0;34m.\u001b[0m\u001b[0m_flag\u001b[0m\u001b[0;34m\u001b[0m\u001b[0;34m\u001b[0m\u001b[0m\n\u001b[1;32m    628\u001b[0m             \u001b[0;32mif\u001b[0m \u001b[0;32mnot\u001b[0m \u001b[0msignaled\u001b[0m\u001b[0;34m:\u001b[0m\u001b[0;34m\u001b[0m\u001b[0;34m\u001b[0m\u001b[0m\n\u001b[0;32m--> 629\u001b[0;31m                 \u001b[0msignaled\u001b[0m \u001b[0;34m=\u001b[0m \u001b[0mself\u001b[0m\u001b[0;34m.\u001b[0m\u001b[0m_cond\u001b[0m\u001b[0;34m.\u001b[0m\u001b[0mwait\u001b[0m\u001b[0;34m(\u001b[0m\u001b[0mtimeout\u001b[0m\u001b[0;34m)\u001b[0m\u001b[0;34m\u001b[0m\u001b[0;34m\u001b[0m\u001b[0m\n\u001b[0m\u001b[1;32m    630\u001b[0m             \u001b[0;32mreturn\u001b[0m \u001b[0msignaled\u001b[0m\u001b[0;34m\u001b[0m\u001b[0;34m\u001b[0m\u001b[0m\n\u001b[1;32m    631\u001b[0m \u001b[0;34m\u001b[0m\u001b[0m\n",
            "\u001b[0;32m/usr/lib/python3.11/threading.py\u001b[0m in \u001b[0;36mwait\u001b[0;34m(self, timeout)\u001b[0m\n\u001b[1;32m    325\u001b[0m         \u001b[0;32mtry\u001b[0m\u001b[0;34m:\u001b[0m    \u001b[0;31m# restore state no matter what (e.g., KeyboardInterrupt)\u001b[0m\u001b[0;34m\u001b[0m\u001b[0;34m\u001b[0m\u001b[0m\n\u001b[1;32m    326\u001b[0m             \u001b[0;32mif\u001b[0m \u001b[0mtimeout\u001b[0m \u001b[0;32mis\u001b[0m \u001b[0;32mNone\u001b[0m\u001b[0;34m:\u001b[0m\u001b[0;34m\u001b[0m\u001b[0;34m\u001b[0m\u001b[0m\n\u001b[0;32m--> 327\u001b[0;31m                 \u001b[0mwaiter\u001b[0m\u001b[0;34m.\u001b[0m\u001b[0macquire\u001b[0m\u001b[0;34m(\u001b[0m\u001b[0;34m)\u001b[0m\u001b[0;34m\u001b[0m\u001b[0;34m\u001b[0m\u001b[0m\n\u001b[0m\u001b[1;32m    328\u001b[0m                 \u001b[0mgotit\u001b[0m \u001b[0;34m=\u001b[0m \u001b[0;32mTrue\u001b[0m\u001b[0;34m\u001b[0m\u001b[0;34m\u001b[0m\u001b[0m\n\u001b[1;32m    329\u001b[0m             \u001b[0;32melse\u001b[0m\u001b[0;34m:\u001b[0m\u001b[0;34m\u001b[0m\u001b[0;34m\u001b[0m\u001b[0m\n",
            "\u001b[0;31mKeyboardInterrupt\u001b[0m: "
          ]
        }
      ],
      "source": [
        "# Set the memory paramters.\n",
        "mem.set_param(\"storage_time\", storage_time)\n",
        "mem.set_param(\"memory_type\", mem_type)\n",
        "mem.set_param(\"memory_truncation\",int(trunc))\n",
        "mem.send_params()\n",
        "\n",
        "# Initialise the internal state of the memory\n",
        "mem_state_bs = mem.state_init()[0]\n",
        "\n",
        "# Set the coherent source paramters\n",
        "cs.set_param(\"alpha\", 1+0j)\n",
        "cs.send_params()\n",
        "\n",
        "\n",
        "# define properties of the input state (early state)\n",
        "state_early_prop = StateProp(\n",
        "    state_type=\"light\",\n",
        "    truncation=trunc,\n",
        "    wavelength=895,\n",
        "    polarization='H',\n",
        "    uuid=\"early\",\n",
        "    bandwidth =0.5e9\n",
        "\n",
        ")\n",
        "# make the early state (vaccum state)\n",
        "state_early = State(state_early_prop)\n",
        "\n",
        "# Generate coherent source operators\n",
        "response, operators = cs.channel_query(\n",
        "state_early, {\"input\": state_early_prop.uuid}\n",
        ")\n",
        "\n",
        "# apply coherent source operators\n",
        "state_early.apply_kraus_operators(operators, [state_early_prop])\n",
        "\n",
        "# create a joint state, consisting of just the early state\n",
        "whole_state =  state_early\n",
        "\n",
        "# Add the internal state of the memory to make a joint state e x s\n",
        "whole_state.join(mem_state_bs)\n",
        "\n",
        "# Generate the memory storage operators.\n",
        "response, operators = mem.channel_query(\n",
        "    whole_state, {\"input\": state_early_prop.uuid, 'op_type': 'storage'}\n",
        ")\n",
        "\n",
        "# Apply memory storage operators.\n",
        "whole_state.apply_kraus_operators(operators, whole_state.get_all_props(response[\"kraus_state_indices\"]))\n",
        "\n",
        "\n",
        "# define the properties of the late state\n",
        "state_late_prop = StateProp(\n",
        "    state_type=\"light\",\n",
        "    truncation=trunc,\n",
        "    wavelength=895,\n",
        "    polarization='H',\n",
        "    uuid=\"late\",\n",
        "    bandwidth =0.5e9\n",
        "\n",
        ")\n",
        "# create the late state\n",
        "state_late = State(state_late_prop)\n",
        "\n",
        "# join the late state to the e x s state - e x s x l\n",
        "whole_state.join( state_late )\n",
        "\n",
        "# generate the retrieval operators\n",
        "response, operators = mem.channel_query(\n",
        "   whole_state, {\"input\": state_late_prop.uuid, 'op_type': 'retrieval'}\n",
        ")\n",
        "\n",
        "# apply the retrieval opertors\n",
        "whole_state.apply_kraus_operators(operators, whole_state.get_all_props(response[\"kraus_state_indices\"]))\n",
        "\n",
        "\n",
        "# create the \\hat{n} projectors working on the e x l space\n",
        "n_hat_e, n_hat_l = photon_number_projectors(state_early_prop.truncation,state_late_prop.truncation )\n",
        "\n",
        "# trace out the storage state leaving just e x l\n",
        "red = whole_state.get_reduced_state([state_early_prop,state_late_prop])\n",
        "\n",
        "# apply the number operators to early and late states.\n",
        "photon_num_e = np.trace(red @ n_hat_e)\n",
        "photon_num_l =  np.trace(red @ n_hat_l)"
      ]
    },
    {
      "cell_type": "code",
      "execution_count": null,
      "id": "23be877b-3fe6-48d5-9c82-faad2376ca4a",
      "metadata": {
        "id": "23be877b-3fe6-48d5-9c82-faad2376ca4a"
      },
      "outputs": [],
      "source": [
        "photon_num_e, photon_num_l"
      ]
    },
    {
      "cell_type": "markdown",
      "id": "16562d77-9e1e-4756-aac4-73233160141b",
      "metadata": {
        "id": "16562d77-9e1e-4756-aac4-73233160141b"
      },
      "source": [
        "# Using a test memory\n",
        "Below shows the initalisation of an example test memory, which we use to generate a truncation figure."
      ]
    },
    {
      "cell_type": "code",
      "execution_count": null,
      "id": "e9a45870-fc78-4a14-9cec-b009dc4e33cf",
      "metadata": {
        "id": "e9a45870-fc78-4a14-9cec-b009dc4e33cf"
      },
      "outputs": [],
      "source": [
        "def truncation_scan(truncat, coherent_state = True ):\n",
        "    storage_time = 0e6\n",
        "\n",
        "    mem.set_param(\"storage_time\", storage_time)\n",
        "    mem.set_param(\"memory_type\", 'Test')\n",
        "    mem.set_param(\"memory_truncation\", int(truncat))\n",
        "\n",
        "    mem.set_param(\"t_in\", np.sqrt(0.5))             # \\eta_{read_in} = sqrt(0.5)\n",
        "    mem.set_param(\"t_out\", np.sqrt(0.5))            # \\eta_{read_out} = sqrt(0.5)\n",
        "    mem.set_param(\"k_e\", 0.5)              # \\kappa_e = 0.5\n",
        "    mem.set_param(\"k_l\", 0.5)              # \\kappa_l = 0.5\n",
        "    mem.set_param(\"nB_e\",  1)            # n_b_e = 0.5\n",
        "    mem.set_param(\"nB_l\", 1)             # n_b_l = 0.5\n",
        "    mem.send_params()\n",
        "\n",
        "\n",
        "    cs.set_param(\"alpha\", 1+0j)\n",
        "    cs.send_params()\n",
        "\n",
        "    mem_state_bs = mem.state_init()[0]\n",
        "\n",
        "    state_early_prop = StateProp(\n",
        "        state_type=\"light\",\n",
        "        truncation=truncat,\n",
        "        wavelength= 895,\n",
        "        polarization= 'H',\n",
        "        uuid=\"early\",\n",
        "        bandwidth = 0.5e9\n",
        "\n",
        "    )\n",
        "    state_early = State(state_early_prop)\n",
        "\n",
        "    # switch between coherent_state and single photon input.\n",
        "    if coherent_state:\n",
        "        response, operators = cs.channel_query(\n",
        "        state_early, {\"input\": state_early_prop.uuid}\n",
        "        )\n",
        "        state_early.apply_kraus_operators(operators, [state_early_prop])\n",
        "\n",
        "    else:\n",
        "        state_early.state[0,0]  = 0\n",
        "        state_early.state[1,1]  = 1\n",
        "\n",
        "    whole_state =  state_early\n",
        "    whole_state.join(mem_state_bs)\n",
        "\n",
        "    response, operators = mem.channel_query(\n",
        "        whole_state, {\"input\": state_early_prop.uuid, 'op_type': 'storage'}\n",
        "    )\n",
        "    whole_state.apply_kraus_operators(operators, whole_state.get_all_props(response[\"kraus_state_indices\"]))\n",
        "\n",
        "\n",
        "    state_late_prop = StateProp(\n",
        "        state_type=\"light\",\n",
        "        truncation=truncat,\n",
        "        wavelength= 895,\n",
        "        polarization= 'H',\n",
        "        uuid=\"late\",\n",
        "        bandwidth = 0.5e9\n",
        "\n",
        "    )\n",
        "\n",
        "    state_late = State(state_late_prop)\n",
        "    whole_state.join( state_late )\n",
        "\n",
        "\n",
        "    response, operators = mem.channel_query(\n",
        "       whole_state, {\"input\": state_late_prop.uuid, 'op_type': 'retrieval'}\n",
        "    )\n",
        "    whole_state.apply_kraus_operators(operators, whole_state.get_all_props(response[\"kraus_state_indices\"]))\n",
        "\n",
        "\n",
        "    n_hat_e, n_hat_l = photon_number_projectors(state_early_prop.truncation,state_late_prop.truncation )\n",
        "\n",
        "    red = whole_state.get_reduced_state([state_early_prop,state_late_prop])\n",
        "\n",
        "    photon_no_e = np.trace(red @ n_hat_e)\n",
        "    photon_no_l =  np.trace(red @ n_hat_l)\n",
        "    return photon_no_e, photon_no_l\n"
      ]
    },
    {
      "cell_type": "code",
      "execution_count": null,
      "id": "007931dd-603d-401c-a23c-c4838b02a36b",
      "metadata": {
        "id": "007931dd-603d-401c-a23c-c4838b02a36b"
      },
      "outputs": [],
      "source": [
        "truncation = np.arange(2,9)\n",
        "coherent = np.zeros((truncation.shape[0],2))\n",
        "single =  np.zeros((truncation.shape[0],2))\n",
        "\n",
        "for i in range(truncation.shape[0]):\n",
        "    single[i] = truncation_scan(truncation[i], coherent_state = False)\n",
        "    coherent[i] = truncation_scan(truncation[i], coherent_state = True)"
      ]
    },
    {
      "cell_type": "code",
      "execution_count": null,
      "id": "1298d58c-37e4-4c7b-ae4f-6b322326228c",
      "metadata": {
        "id": "1298d58c-37e4-4c7b-ae4f-6b322326228c"
      },
      "outputs": [],
      "source": [
        "plt.plot(truncation, single[:,1], label = 'Single photon')\n",
        "plt.plot(truncation, coherent[:,1], label = 'Coherent state')\n",
        "plt.legend()\n",
        "plt.ylabel(r\"$\\langle \\hat{n} \\rangle_l$\")\n",
        "plt.xlabel(\"Truncation\")\n",
        "plt.ylim(0,1)\n"
      ]
    },
    {
      "cell_type": "code",
      "execution_count": null,
      "id": "18ae21b0-c5fc-44cd-b2a1-c5d97f7492cf",
      "metadata": {
        "id": "18ae21b0-c5fc-44cd-b2a1-c5d97f7492cf"
      },
      "outputs": [],
      "source": []
    }
  ],
  "metadata": {
    "kernelspec": {
      "display_name": "venv",
      "language": "python",
      "name": "venv"
    },
    "language_info": {
      "codemirror_mode": {
        "name": "ipython",
        "version": 3
      },
      "file_extension": ".py",
      "mimetype": "text/x-python",
      "name": "python",
      "nbconvert_exporter": "python",
      "pygments_lexer": "ipython3",
      "version": "3.12.7"
    },
    "colab": {
      "provenance": []
    }
  },
  "nbformat": 4,
  "nbformat_minor": 5
}